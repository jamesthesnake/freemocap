{
 "cells": [
  {
   "cell_type": "markdown",
   "metadata": {
    "collapsed": false,
    "pycharm": {
     "name": "#%% md\n"
    }
   },
   "source": [
    "# notebook to post-process results from SLEAP into  freemocap format\n",
    "\n",
    "expected processing steps:\n",
    "\n",
    "1 - load data from SLEAP h5's (one per video, produced by SLEAP's GUI process)\n",
    "2 - Reformat into standard freemocap 2d npy format (dimensions: camera, frame, marker, XY)\n",
    "2a,b - save and test by producing annotated videos\n",
    "3 - triangulate using anipose triangulation\n",
    "4 - save triangulation results to freemocap formated 3d npy  (frame, marker, XYZ) (and another npy for reprojection error)"
   ]
  },
  {
   "cell_type": "code",
   "execution_count": 9,
   "metadata": {
    "collapsed": false,
    "pycharm": {
     "name": "#%%\n"
    }
   },
   "outputs": [
    {
     "ename": "ModuleNotFoundError",
     "evalue": "No module named 'sleap'",
     "output_type": "error",
     "traceback": [
      "\u001b[1;31m---------------------------------------------------------------------------\u001b[0m",
      "\u001b[1;31mModuleNotFoundError\u001b[0m                       Traceback (most recent call last)",
      "\u001b[1;32m~\\AppData\\Local\\Temp\\ipykernel_61232\\3622061885.py\u001b[0m in \u001b[0;36m<module>\u001b[1;34m\u001b[0m\n\u001b[0;32m      3\u001b[0m \u001b[1;32mfrom\u001b[0m \u001b[0mpathlib\u001b[0m \u001b[1;32mimport\u001b[0m \u001b[0mPath\u001b[0m\u001b[1;33m\u001b[0m\u001b[1;33m\u001b[0m\u001b[0m\n\u001b[0;32m      4\u001b[0m \u001b[1;32mfrom\u001b[0m \u001b[0maniposelib\u001b[0m\u001b[1;33m.\u001b[0m\u001b[0mcameras\u001b[0m \u001b[1;32mimport\u001b[0m \u001b[0mCameraGroup\u001b[0m\u001b[1;33m\u001b[0m\u001b[1;33m\u001b[0m\u001b[0m\n\u001b[1;32m----> 5\u001b[1;33m \u001b[1;32mimport\u001b[0m \u001b[0msleap\u001b[0m\u001b[1;33m\u001b[0m\u001b[1;33m\u001b[0m\u001b[0m\n\u001b[0m",
      "\u001b[1;31mModuleNotFoundError\u001b[0m: No module named 'sleap'"
     ]
    }
   ],
   "source": [
    "import numpy as np\n",
    "import h5py\n",
    "from pathlib import Path\n",
    "from aniposelib.cameras import CameraGroup\n",
    "import sleap"
   ]
  },
  {
   "cell_type": "markdown",
   "metadata": {},
   "source": []
  },
  {
   "cell_type": "code",
   "execution_count": 7,
   "metadata": {
    "collapsed": false,
    "pycharm": {
     "name": "#%%\n"
    }
   },
   "outputs": [],
   "source": [
    "session_id = 'sesh_2022-05-07_17_15_05_pupil_wobble_juggle_0'\n",
    "\n",
    "freemocap_data_folder = Path('C:/Users/jonma/Dropbox/FreeMoCapProject/FreeMocap_Data')\n",
    "\n",
    "session_folder_path = freemocap_data_folder / session_id\n",
    "\n",
    "calibration_file_name = session_id + '_calibration.toml'\n",
    "camera_calibration_file_path = session_folder_path / calibration_file_name\n",
    "\n",
    "sleap_data_path = session_folder_path / 'sleap_data'\n",
    "sleap_h5_files_path = sleap_data_path / 'output_h5_files'\n",
    "\n",
    "sleap_predictions_file = sleap_data_path / 'labels.v000.slp'"
   ]
  },
  {
   "cell_type": "code",
   "execution_count": 8,
   "metadata": {},
   "outputs": [
    {
     "ename": "NameError",
     "evalue": "name 'sleap' is not defined",
     "output_type": "error",
     "traceback": [
      "\u001b[1;31m---------------------------------------------------------------------------\u001b[0m",
      "\u001b[1;31mNameError\u001b[0m                                 Traceback (most recent call last)",
      "\u001b[1;32m~\\AppData\\Local\\Temp\\ipykernel_61232\\726452517.py\u001b[0m in \u001b[0;36m<module>\u001b[1;34m\u001b[0m\n\u001b[1;32m----> 1\u001b[1;33m \u001b[0msleap_labels_object\u001b[0m \u001b[1;33m=\u001b[0m \u001b[0msleap\u001b[0m\u001b[1;33m.\u001b[0m\u001b[0mload_file\u001b[0m\u001b[1;33m(\u001b[0m\u001b[0mstr\u001b[0m\u001b[1;33m(\u001b[0m\u001b[0msleap_predictions_file\u001b[0m\u001b[1;33m)\u001b[0m\u001b[1;33m)\u001b[0m\u001b[1;33m\u001b[0m\u001b[1;33m\u001b[0m\u001b[0m\n\u001b[0m\u001b[0;32m      2\u001b[0m \u001b[0msleap_labels_object\u001b[0m\u001b[1;33m\u001b[0m\u001b[1;33m\u001b[0m\u001b[0m\n",
      "\u001b[1;31mNameError\u001b[0m: name 'sleap' is not defined"
     ]
    }
   ],
   "source": [
    "sleap_labels_object = sleap.load_file(str(sleap_predictions_file))\n",
    "sleap_labels_object"
   ]
  },
  {
   "cell_type": "code",
   "execution_count": 3,
   "metadata": {
    "collapsed": false,
    "pycharm": {
     "name": "#%%\n"
    }
   },
   "outputs": [],
   "source": [
    "anipose_camera_calibration_object = CameraGroup.load(camera_calibration_file_path)"
   ]
  },
  {
   "cell_type": "code",
   "execution_count": 4,
   "metadata": {
    "collapsed": false,
    "pycharm": {
     "name": "#%%\n"
    }
   },
   "outputs": [
    {
     "name": "stdout",
     "output_type": "stream",
     "text": [
      "===filename===\n",
      "C:\\Users\\jonma\\Dropbox\\FreeMoCapProject\\FreeMocap_Data\\sesh_2022-05-07_17_15_05_pupil_wobble_juggle_0\\sleap_data\\output_h5_files\\labels_v000_analysis_video_0.h5\n",
      "\n",
      "===HDF5 datasets===\n",
      "['edge_inds', 'edge_names', 'instance_scores', 'node_names', 'point_scores', 'track_names', 'track_occupancy', 'tracking_scores', 'tracks']\n",
      "\n",
      "===locations data shape===\n",
      "(5090, 10, 2, 1)\n",
      "\n",
      "===nodes===\n",
      "0: red_ball\n",
      "1: green_ball\n",
      "2: orange_ball\n",
      "3: wobble_0\n",
      "4: wobble_1\n",
      "5: wobble_2\n",
      "6: wobble_3\n",
      "7: wobble_4\n",
      "8: wheel_center\n",
      "9: wheel_edge\n",
      "\n",
      "===filename===\n",
      "C:\\Users\\jonma\\Dropbox\\FreeMoCapProject\\FreeMocap_Data\\sesh_2022-05-07_17_15_05_pupil_wobble_juggle_0\\sleap_data\\output_h5_files\\labels_v000_analysis_video_1.h5\n",
      "\n",
      "===HDF5 datasets===\n",
      "['edge_inds', 'edge_names', 'instance_scores', 'node_names', 'point_scores', 'track_names', 'track_occupancy', 'tracking_scores', 'tracks']\n",
      "\n",
      "===locations data shape===\n",
      "(5090, 10, 2, 1)\n",
      "\n",
      "===nodes===\n",
      "0: red_ball\n",
      "1: green_ball\n",
      "2: orange_ball\n",
      "3: wobble_0\n",
      "4: wobble_1\n",
      "5: wobble_2\n",
      "6: wobble_3\n",
      "7: wobble_4\n",
      "8: wheel_center\n",
      "9: wheel_edge\n",
      "\n",
      "===filename===\n",
      "C:\\Users\\jonma\\Dropbox\\FreeMoCapProject\\FreeMocap_Data\\sesh_2022-05-07_17_15_05_pupil_wobble_juggle_0\\sleap_data\\output_h5_files\\labels_v000_analysis_video_2.h5\n",
      "\n",
      "===HDF5 datasets===\n",
      "['edge_inds', 'edge_names', 'instance_scores', 'node_names', 'point_scores', 'track_names', 'track_occupancy', 'tracking_scores', 'tracks']\n",
      "\n",
      "===locations data shape===\n",
      "(5090, 10, 2, 1)\n",
      "\n",
      "===nodes===\n",
      "0: red_ball\n",
      "1: green_ball\n",
      "2: orange_ball\n",
      "3: wobble_0\n",
      "4: wobble_1\n",
      "5: wobble_2\n",
      "6: wobble_3\n",
      "7: wobble_4\n",
      "8: wheel_center\n",
      "9: wheel_edge\n",
      "\n",
      "===filename===\n",
      "C:\\Users\\jonma\\Dropbox\\FreeMoCapProject\\FreeMocap_Data\\sesh_2022-05-07_17_15_05_pupil_wobble_juggle_0\\sleap_data\\output_h5_files\\labels_v000_analysis_video_3.h5\n",
      "\n",
      "===HDF5 datasets===\n",
      "['edge_inds', 'edge_names', 'instance_scores', 'node_names', 'point_scores', 'track_names', 'track_occupancy', 'tracking_scores', 'tracks']\n",
      "\n",
      "===locations data shape===\n",
      "(5090, 10, 2, 1)\n",
      "\n",
      "===nodes===\n",
      "0: red_ball\n",
      "1: green_ball\n",
      "2: orange_ball\n",
      "3: wobble_0\n",
      "4: wobble_1\n",
      "5: wobble_2\n",
      "6: wobble_3\n",
      "7: wobble_4\n",
      "8: wheel_center\n",
      "9: wheel_edge\n",
      "\n",
      "===filename===\n",
      "C:\\Users\\jonma\\Dropbox\\FreeMoCapProject\\FreeMocap_Data\\sesh_2022-05-07_17_15_05_pupil_wobble_juggle_0\\sleap_data\\output_h5_files\\labels_v000_analysis_video_4.h5\n",
      "\n",
      "===HDF5 datasets===\n",
      "['edge_inds', 'edge_names', 'instance_scores', 'node_names', 'point_scores', 'track_names', 'track_occupancy', 'tracking_scores', 'tracks']\n",
      "\n",
      "===locations data shape===\n",
      "(5090, 10, 2, 1)\n",
      "\n",
      "===nodes===\n",
      "0: red_ball\n",
      "1: green_ball\n",
      "2: orange_ball\n",
      "3: wobble_0\n",
      "4: wobble_1\n",
      "5: wobble_2\n",
      "6: wobble_3\n",
      "7: wobble_4\n",
      "8: wheel_center\n",
      "9: wheel_edge\n",
      "\n"
     ]
    }
   ],
   "source": [
    "\n",
    "\n",
    "per_video_labels_fr_point_xy = []\n",
    "per_video_label_names = []\n",
    "for this_h5_file in sleap_h5_files_path.glob('*.h5'):\n",
    "    with h5py.File(this_h5_file, \"r\") as f:\n",
    "        dset_names = list(f.keys())\n",
    "        locations = f[\"tracks\"][:].T\n",
    "        node_names = [n.decode() for n in f[\"node_names\"][:]]\n",
    "\n",
    "    per_video_labels_fr_point_xy.append(locations)\n",
    "    per_video_label_names.append(node_names)\n",
    "    print(\"===filename===\")\n",
    "    print(this_h5_file)\n",
    "    print()\n",
    "\n",
    "    print(\"===HDF5 datasets===\")\n",
    "    print(dset_names)\n",
    "    print()\n",
    "\n",
    "    print(\"===locations data shape===\")\n",
    "    print(locations.shape)\n",
    "    print()\n",
    "\n",
    "    print(\"===nodes===\")\n",
    "    for i, name in enumerate(node_names):\n",
    "        print(f\"{i}: {name}\")\n",
    "    print()\n",
    "\n",
    "\n"
   ]
  },
  {
   "cell_type": "code",
   "execution_count": 5,
   "metadata": {
    "collapsed": false,
    "pycharm": {
     "name": "#%%\n"
    }
   },
   "outputs": [],
   "source": [
    "number_of_videos = len(per_video_labels_fr_point_xy)\n",
    "number_of_frames = len(per_video_labels_fr_point_xy[0])\n",
    "number_of_markers = len(per_video_labels_fr_point_xy[0][0])\n",
    "sleap2d_nCams_nFrames_nImgPts_XY = np.empty((number_of_videos, number_of_frames, number_of_markers, 2))"
   ]
  },
  {
   "cell_type": "markdown",
   "metadata": {},
   "source": [
    "put data into freemocap 2d_npy format"
   ]
  },
  {
   "cell_type": "code",
   "execution_count": 6,
   "metadata": {
    "collapsed": false,
    "pycharm": {
     "name": "#%%\n"
    }
   },
   "outputs": [
    {
     "data": {
      "text/plain": [
       "(5, 5090, 10, 2)"
      ]
     },
     "execution_count": 6,
     "metadata": {},
     "output_type": "execute_result"
    }
   ],
   "source": [
    "for this_video_number in range(len(per_video_labels_fr_point_xy)):\n",
    "    sleap2d_nCams_nFrames_nImgPts_XY[this_video_number,:,:,:] = np.squeeze(per_video_labels_fr_point_xy[this_video_number])\n",
    "\n",
    "sleap2d_nCams_nFrames_nImgPts_XY.shape"
   ]
  },
  {
   "cell_type": "markdown",
   "metadata": {},
   "source": [
    "load anipose calibration cgroup whosit"
   ]
  },
  {
   "cell_type": "code",
   "execution_count": 7,
   "metadata": {
    "collapsed": false,
    "pycharm": {
     "name": "#%%\n"
    }
   },
   "outputs": [
    {
     "name": "stdout",
     "output_type": "stream",
     "text": [
      "Reconstructing 3d points...\n"
     ]
    },
    {
     "name": "stderr",
     "output_type": "stream",
     "text": [
      "100%|█████████████████████████| 50900/50900 [00:08<00:00, 6245.40it/s]\n"
     ]
    }
   ],
   "source": [
    "\n",
    "sleap_flattened_nCams_nTotalPoints_XY = sleap2d_nCams_nFrames_nImgPts_XY.reshape(number_of_videos, -1, 2)  # reshape data to collapse across 'frames' so it becomes [numCams, numFrames*numPoints, XY]\n",
    "\n",
    "print('Reconstructing 3d points...')\n",
    "sleap_data3d_flat = anipose_camera_calibration_object.triangulate(sleap_flattened_nCams_nTotalPoints_XY, progress=True)\n",
    "\n",
    "sleap_data_reprojerr_flat = anipose_camera_calibration_object.reprojection_error( sleap_data3d_flat, sleap_flattened_nCams_nTotalPoints_XY, mean=True)\n",
    "\n",
    "##return:\n",
    "sleap_fr_mar_xyz = sleap_data3d_flat.reshape(number_of_frames, number_of_markers, 3)\n",
    "sleap_fr_mar_reprojectionError = sleap_data_reprojerr_flat.reshape(number_of_frames, number_of_markers)\n"
   ]
  },
  {
   "cell_type": "code",
   "execution_count": 8,
   "metadata": {},
   "outputs": [
    {
     "name": "stdout",
     "output_type": "stream",
     "text": [
      "sleap_fr_mar_xyz.shape: (5090, 10, 3)\n",
      "sleap_fr_mar_reprojectionError.shape: (5090, 10)\n"
     ]
    }
   ],
   "source": [
    "\n",
    "print(f'sleap_fr_mar_xyz.shape: {sleap_fr_mar_xyz.shape}')\n",
    "print(f'sleap_fr_mar_reprojectionError.shape: {sleap_fr_mar_reprojectionError.shape}')"
   ]
  },
  {
   "cell_type": "code",
   "execution_count": 9,
   "metadata": {},
   "outputs": [
    {
     "name": "stdout",
     "output_type": "stream",
     "text": [
      "Using matplotlib backend: TkAgg\n"
     ]
    }
   ],
   "source": [
    "import matplotlib.pyplot as plt\n",
    "%matplotlib \n"
   ]
  },
  {
   "cell_type": "code",
   "execution_count": 10,
   "metadata": {},
   "outputs": [],
   "source": [
    "plt.close('all')\n",
    "fig  = plt.figure()\n",
    "\n",
    "for this_marker_number in range(sleap_fr_mar_xyz.shape[1]):\n",
    "    ax = fig.add_subplot(5,2,this_marker_number+1)\n",
    "    ax.plot(sleap_fr_mar_xyz[:,this_marker_number,:])"
   ]
  },
  {
   "cell_type": "markdown",
   "metadata": {},
   "source": [
    "save sleap data to `DataArrays` folder "
   ]
  },
  {
   "cell_type": "code",
   "execution_count": 11,
   "metadata": {},
   "outputs": [],
   "source": [
    "session_data_arrays_path = session_folder_path / 'DataArrays'\n",
    "\n",
    "sleap_3d_save_path = session_data_arrays_path / 'sleap_3d_points.npy'\n",
    "sleap_reproj_err_save_path = session_data_arrays_path / 'sleap_reprojection_error.npy'\n",
    "label_name_csv_path = session_data_arrays_path / 'sleap_label_names.csv'\n",
    "\n",
    "np.save(sleap_3d_save_path, sleap_fr_mar_xyz)\n",
    "np.save(sleap_reproj_err_save_path, sleap_fr_mar_reprojectionError)\n",
    "\n",
    "import csv\n",
    "with open(label_name_csv_path,'w') as label_name_file:\n",
    "    wr = csv.writer(label_name_file)\n",
    "    wr.writerow(node_names)"
   ]
  },
  {
   "cell_type": "code",
   "execution_count": 17,
   "metadata": {},
   "outputs": [
    {
     "data": {
      "text/plain": [
       "(5090,)"
      ]
     },
     "execution_count": 17,
     "metadata": {},
     "output_type": "execute_result"
    }
   ],
   "source": [
    "sleap_fr_mar_xyz[:,5,0].shape"
   ]
  },
  {
   "cell_type": "code",
   "execution_count": null,
   "metadata": {},
   "outputs": [],
   "source": []
  }
 ],
 "metadata": {
  "interpreter": {
   "hash": "122c9931a57dd91c579842728ee2ee1c7ffefd770186c077f442b22e7e57f48e"
  },
  "kernelspec": {
   "display_name": "Python 3.7.13 ('freemocap-env')",
   "language": "python",
   "name": "python3"
  },
  "language_info": {
   "codemirror_mode": {
    "name": "ipython",
    "version": 3
   },
   "file_extension": ".py",
   "mimetype": "text/x-python",
   "name": "python",
   "nbconvert_exporter": "python",
   "pygments_lexer": "ipython3",
   "version": "3.7.13"
  }
 },
 "nbformat": 4,
 "nbformat_minor": 0
}
